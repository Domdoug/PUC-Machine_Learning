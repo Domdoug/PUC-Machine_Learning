{
 "cells": [
  {
   "cell_type": "code",
   "execution_count": 1,
   "metadata": {},
   "outputs": [],
   "source": [
    "# Especialização em Ciência de Dados - PUC-Rio\n",
    "# Machine Learning\n",
    "## Trabalho Final: Classificação, dataset Census"
   ]
  },
  {
   "cell_type": "markdown",
   "metadata": {},
   "source": [
    "---\n",
    "\n",
    "\n",
    "__Alunos:__ <br>\n",
    "        Cícero Felipe Ricci Bressane <br>\n",
    "        José Douglas Nascimento <br>\n",
    "        Ronaldo Costa <br>\n",
    "        Victor Mouffron Carvalho Machado\n",
    "\n",
    "---"
   ]
  },
  {
   "cell_type": "markdown",
   "metadata": {},
   "source": [
    "# Sumário:\n",
    "1 [Importing Libraries](#scrollTo=_2oUOp-mixIv)\n",
    "\n",
    "* [Loading Data](#teste)\n",
    "\n",
    "* [Exploratory Data Analysis](#scrollTo=nNnaPdClkRvC)\n",
    "\n",
    "   * 1.1 [Cleaning the data](#scrollTo=v8xSbpLqkVon)\n",
    "\n",
    "   * 1.2 [Handing Numerical Attributes](#scrollTo=uOcQwld3ZR0S)\n",
    "\n",
    "   * 1.4 [Handling Categorical Attributes](#scrollTo=Ncrvd9RUtDw2)"
   ]
  },
  {
   "cell_type": "markdown",
   "metadata": {},
   "source": [
    "## Descrição dos dados"
   ]
  },
  {
   "cell_type": "markdown",
   "metadata": {},
   "source": [
    "Este trabalho utilizou o [Census Dataset](https://archive.ics.uci.edu/ml/datasets/census+income) da UCI Machine Learning Repository.  \n",
    "\n",
    "O dataset contem 3 (três arquivos): \n",
    "\n",
    "*   [adult.names](https://archive.ics.uci.edu/ml/machine-learning-databases/adult/adult.names) - descrição do dataset\n",
    "*   [adult.data](https://archive.ics.uci.edu/ml/machine-learning-databases/adult/adult.data) - dataset de treino\n",
    "*   [adult.test](https://archive.ics.uci.edu/ml/machine-learning-databases/adult/adult.test) - dataset de teste \n",
    "\n",
    "\n",
    "Trata-se de um dataset com informações como: age, occupation, education, working class, etc. O objetivo do trabalho é treinar com a utilização de algorítmos classificadores para predizer a renda entre as seguintes faixas: \n",
    "\n",
    "    '>50K' e '<50K'\n",
    "    \n",
    "\n",
    "Os dados são compostos de variáveis categóricas, numéricas e também contém <i>missing values</i>. \n",
    "\n",
    "Cada linha (instância) representa uma pessoa e possui rótulo indicando se a renda é maior ou menor que 50.000.\n",
    "\n",
    "Conforme descrito acima, os dados que vamos utilizar foram divididos em 2 datasets: `treino` e `teste`. O arquivo `treino` será usado para montarmos nosso modelo e no arquivo `teste` testaremos nosso modelo. "
   ]
  },
  {
   "cell_type": "markdown",
   "metadata": {},
   "source": [
    "<colgroup><col align=\"left\"><col align=\"left\"></colgroup><thead><tr><th style=\"border-bottom: 0.5pt solid ; \" valign=\"bottom\" align=\"left\">\n",
    "<p>Colunas</p>\n",
    "</th><th style=\"border-bottom: 0.5pt solid ; \" valign=\"bottom\" align=\"left\">\n",
    "<p>Descrição</p>\n",
    "</th></tr></thead><tbody><tr><td style=\"\" valign=\"top\" align=\"left\">\n",
    "<p>\n",
    "<code class=\"literal\">age</code>\n",
    "</p>\n",
    "</td><td style=\"\" valign=\"top\" align=\"left\">\n",
    "<p>Refere-se a idade da pessoa</p>\n",
    "</td></tr><tr><td style=\"\" valign=\"top\" align=\"left\">\n",
    "<p>\n",
    "<code class=\"literal\">work class</code>\n",
    "</p>\n",
    "</td><td style=\"\" valign=\"top\" align=\"left\">\n",
    "<p>Refere-se ao tipo de empregado</p>\n",
    "</td></tr><tr><td style=\"\" valign=\"top\" align=\"left\">\n",
    "<p>\n",
    "<code class=\"literal\">education</code>\n",
    "</p>\n",
    "</td><td style=\"\" valign=\"top\" align=\"left\">\n",
    "<p>Refere-se ao nível de educação da pessoa</p>\n",
    "</td></tr><tr><td style=\"\" valign=\"top\" align=\"left\">\n",
    "<p>\n",
    "<code class=\"literal\">marital_status</code>\n",
    "</p>\n",
    "</td><td style=\"\" valign=\"top\" align=\"left\">\n",
    "<p>Refere-se se a pessoa é casada ou não</p>\n",
    "</td></tr><tr><td style=\"\" valign=\"top\" align=\"left\">\n",
    "<p>\n",
    "<code class=\"literal\">occupation</code>\n",
    "</p>\n",
    "</td><td style=\"\" valign=\"top\" align=\"left\">\n",
    "<p>Refer-se ao tipo de trabalho da pessoa</p>\n",
    "</td></tr><tr><td style=\"\" valign=\"top\" align=\"left\">\n",
    "<p>\n",
    "<code class=\"literal\">relationship</code>\n",
    "</p>\n",
    "</td><td style=\"\" valign=\"top\" align=\"left\">\n",
    "<p>Refere-se ao estado civil da pessoa</p>\n",
    "</td></tr><tr><td style=\"\" valign=\"top\" align=\"left\">\n",
    "<p>\n",
    "<code class=\"literal\">race</code>\n",
    "</p>\n",
    "</td><td style=\"\" valign=\"top\" align=\"left\">\n",
    "<p>Refere-se à cor da pele da pessoa</p>\n",
    "</td></tr><tr><td style=\"\" valign=\"top\" align=\"left\">\n",
    "<p>\n",
    "<code class=\"literal\">gender</code>\n",
    "</p>\n",
    "</td><td style=\"\" valign=\"top\" align=\"left\">\n",
    "<p>Refere-se ao sexo da pessoa</p>\n",
    "</td></tr><tr><td style=\"\" valign=\"top\" align=\"left\">\n",
    "<p>\n",
    "<code class=\"literal\">hours_per_week</code>\n",
    "</p>\n",
    "</td><td style=\"\" valign=\"top\" align=\"left\">\n",
    "<p>Refere-se a média de horas trabalhadas por semana</p>\n",
    "</td></tr><tr><td style=\"\" valign=\"top\" align=\"left\">\n",
    "<p>\n",
    "<code class=\"literal\">native_country</code>\n",
    "</p>\n",
    "</td><td style=\"\" valign=\"top\" align=\"left\">\n",
    "<p>Refere-se ao país de origem</p>\n",
    "</td></tr><tr><td style=\"\" valign=\"top\" align=\"left\">\n",
    "<p>\n",
    "<code class=\"literal\">income</code>\n",
    "</p>\n",
    "</td><td style=\"\" valign=\"top\" align=\"left\">\n",
    "<p>Refere-se ao atributo-meta que indica se uma pessoa recebe mais do que $50K por ano</p>\n",
    "</td></tr></tbody>"
   ]
  },
  {
   "cell_type": "markdown",
   "metadata": {},
   "source": [
    "![Renda](img/dinheiro2.gif)"
   ]
  },
  {
   "cell_type": "code",
   "execution_count": null,
   "metadata": {},
   "outputs": [],
   "source": [
    "Los atributos de los que disponemos son:\n",
    "age: atributo numérico que expresa la edad de la persona.\n",
    "workclass: atributo categórico que expresa el tipo de empleo que tiene la persona. Los valores que\n",
    "puede tomar son:\n",
    "• Private: persona contratada en una empresa privada.\n",
    "• Self-emp-not-inc: autónomo.\n",
    "• Self-emp-inc: persona que tiene una empresa grande.\n",
    "• Federal-gov: funcionario del gobierno federal.\n",
    "• Local-gov: funcionario del gobierno local.\n",
    "• State-gov: funcionario del gobierto estatal.\n",
    "• Without-pay: persona en paro.\n",
    "• Never-worked: persona que nunca ha trabajado.\n",
    "fnlwgt (final weight): variable numérica que representa un peso, cada peso corresponde a una\n",
    "característica socio-económica de la población, por tanto, personas con características demográficas\n",
    "parecidas deben tener un peso parecido. [2]\n",
    "education: variable categórica que representa el nivel de estudios de la persona. Los valores que puede\n",
    "tomar son: Bachelors, Some-college, 11th, HS-grad, Prof-school, Assoc-acdm, Assoc-voc, 9th, 7th-8th,\n",
    "12th, Masters, 1st-4th, 10th, Doctorate, 5th-6th, Preschool.\n",
    "education-num: variable númerica que representa a la anterior.\n",
    "marital-status: variable categórica que expresa el estado civil de la persona. Los valores que puede\n",
    "tomar son:\n",
    "• Married-civ-spouse: la persona está casada con un civil.\n",
    "• Divorced: la persona está divorciada.\n",
    "• Never-married: la persona nunca ha estado casada.\n",
    "• Separated: la persona está separada.\n",
    "• Widowed: la persona es viuda.\n",
    "• Married-spouse-absent: la persona aparece como casada en el registro, pero no se encuentra a\n",
    "ninguna pareja [3].\n",
    "• Married-AF-spouse: la persona está casada con alguien de las fuerzas armadas.\n",
    "occupation: variable categórica que describe el tipo de profesión que tiene la persona. Puede tomar los va-\n",
    "lores Tech-support, Craft-repair, Other-service, Sales, Exec-managerial, Prof-specialty, Handlers-cleaners,\n",
    "Machine-op-inspct, Adm-clerical, Farming-fishing, Transport-moving, Priv-house-serv, Protective-serv,\n",
    "Armed-Forces.\n",
    "relationship: variable que contiene el valor que puede tomar la relación de una persona con respecto a\n",
    "otra dentro de una familia. Contiene solo un valor por instancia del dato. Estos valores pueden ser Wife\n",
    "(Esposa), Own-child (hijo propio), Husband (marido), Not-in-family (sin familia), Other-relative (otro\n",
    "tipo de familiar) y Unmarried (soltero).Marta Gómez y Braulio Vargas\n",
    "3\n",
    "race: valor que describe la raza de la persona. Puede ser White (Blanco), Asian-Pac-Islander (asíatico\n",
    "o de las islas del pacífico), Amer-Indian-Eskimo (indio americano o esquimal), Other (otro) y Black\n",
    "(negro).\n",
    "sex: sexo de la persona, Female (mujer) o Male (hombre).\n",
    "capital-gain: registro de la ganancia de capital de la persona.\n",
    "capital-loss: registro de la pérdida de capital de la persona.\n",
    "hours-per-week: corresponde a las horas de trabajo a la semana.\n",
    "country: país de pertenencia. En este caso, hay una mayor variedad de valores, siendo los siguientes:\n",
    "United-States, Cambodia, England, Puerto-Rico, Canada, Germany, Outlying-US(Guam-USVI-etc),\n",
    "India, Japan, Greece, South, China, Cuba, Iran, Honduras, Philippines, Italy, Poland, Jamaica, Vietnam,\n",
    "Mexico, Portugal, Ireland, France, Dominican-Republic, Laos, Ecuador, Taiwan, Haiti, Columbia,\n",
    "Hungary, Guatemala, Nicaragua, Scotland, Thailand, Yugoslavia, El-Salvador, Trinadad&Tobago, Peru,\n",
    "Hong, Holand-Netherlands, o lo que es lo mismo, Estados-Unidos, Colombia, Inglaterra, Puerto-Rico,\n",
    "Canada, Alemania, Estados supervisados de los Estados Unidos, India, Japón, Grecia, Sudáfrica, China,\n",
    "Cuba, Irán, Honduras, Filipinas, Italia, Polonia, Jamaica, Vietnam, México, Portugal, Irlanda, Francia,\n",
    "República Dominicana, Laos, Ecuador, Taiwn, Haití, Colombia, Hungría, Guatemala, Nicaragua, Escocia,\n",
    "Tailandia, Yugoslavia, El Salvador y Trinidad-Tobago.\n",
    "income: corresponde al valor que queremos predecir, puede tomar los valores “<=50K” o “>50K”"
   ]
  },
  {
   "cell_type": "markdown",
   "metadata": {},
   "source": [
    "Usaremos os seguintes modelos para para treinar o nosso modelo:\n",
    "* **Regressão Logística**\n",
    "* **Random Forest**\n",
    "* **Support Vector Machine**\n",
    "* **KNN**"
   ]
  },
  {
   "cell_type": "markdown",
   "metadata": {},
   "source": [
    "#### Regressão logística ####\n",
    "<ul>\n",
    "<li>Método baseado em supervised learning;</li>\n",
    "<li>Utilizado em problemas de classificação (apesar do nome...);</li>\n",
    "<li>Lida a probabilidade 0 <= p <= 1 de cada amostra pertencer a uma determinada classe.</li>\n",
    "</ul>\n",
    "<img src=\"img/imagens/logistic_regression.jpeg\">"
   ]
  },
  {
   "cell_type": "markdown",
   "metadata": {},
   "source": []
  },
  {
   "cell_type": "markdown",
   "metadata": {},
   "source": [
    "### 1 - Bibliotecas a serem utilizadas"
   ]
  },
  {
   "cell_type": "markdown",
   "metadata": {},
   "source": [
    "#### Caso não tenha a bibilioteca, instalar com o seguinte comando no kernel do Jupyter:\n",
    "import sys\n",
    "!{sys.executable} -m pip install nome_do_pacote    "
   ]
  },
  {
   "cell_type": "code",
   "execution_count": 10,
   "metadata": {},
   "outputs": [],
   "source": [
    "import pandas as pd\n",
    "import numpy as np\n",
    "import warnings\n",
    "from sklearn.model_selection import train_test_split\n",
    "# LABELENCODER: TRANSFORMAR ATRIBUTOS CATEGORICOS EM ATRIBUTOS DISCRETOS\n",
    "from sklearn.preprocessing import LabelEncoder, OneHotEncoder\n",
    "from sklearn.compose import ColumnTransformer\n",
    "from sklearn.metrics import confusion_matrix, accuracy_score\n",
    "# Algoritmo NaiveBayes\n",
    "from sklearn.naive_bayes import GaussianNB\n",
    "# Algoritmo Arvore de Decisao\n",
    "from sklearn.tree import DecisionTreeClassifier\n",
    "# Algoritmo SVM (Suport Vetor Machine)\n",
    "from sklearn.svm import SVC\n",
    "# modulo para SELECAO DE ATRIBUTOS (FEATURES SELECTION)\n",
    "# from sklearn.feature_selection import SelectKBest, chi2\n",
    "from sklearn.ensemble import ExtraTreesClassifier\n",
    "# ou\n",
    "from sklearn.feature_selection import RFE\n",
    "from sklearn.linear_model import LogisticRegression\n",
    "\n",
    "# Algoritmo kNN\n",
    "from sklearn.neighbors import KNeighborsClassifier\n",
    "\n",
    "# Algoritimo Random Forest\n",
    "from sklearn.ensemble import RandomForestClassifier\n",
    "\n",
    "\n",
    "from sklearn.model_selection import cross_val_score\n",
    "\n",
    "\n",
    "\n",
    "# importar graphviz: para construção do gráfico para a árvore de decisão\n",
    "from sklearn.tree import export_graphviz\n",
    "\n",
    "#make a string that holds most of the folder path\n",
    "graph_folder_path = 'dados/graficos/'\n",
    "\n",
    "warnings.filterwarnings('ignore')"
   ]
  },
  {
   "cell_type": "markdown",
   "metadata": {},
   "source": [
    "<a id='teste'></a>"
   ]
  },
  {
   "cell_type": "markdown",
   "metadata": {},
   "source": [
    "## Importação dos dados"
   ]
  },
  {
   "cell_type": "markdown",
   "metadata": {},
   "source": [
    "*   A base de treino e teste não vem com o nome da coluna, portanto colocaremos os nomes das colunas manualmente.\n",
    "*   Com a utilização da função do Pandas [read_csv](https://pandas.pydata.org/pandas-docs/stable/generated/pandas.read_csv.html), um dos parâmetros utilizados é o separador \\* , *\n",
    "\n",
    "*   Para as informações com <i>missing values</i> indicadas por **'?'**, usaremos o parâmetro **na_values**  para indicar esses <i>missing values</i> \n",
    "*   O dataset de teste contém informação não válida na primeira linha (|1x3 Cross validator). Vamos usar o parâmetro **skiprows=1** para \"pular\" esta linha"
   ]
  },
  {
   "cell_type": "code",
   "execution_count": 11,
   "metadata": {},
   "outputs": [],
   "source": [
    "# no arquivo original (adult.data) do site, incluir, manualmente, o parâmetro coluna\n",
    "col_names = [\"age\", \"workclass\", \"fnlwgt\", \"education\", \"education-num\",\n",
    "                 \"marital-status\", \"occupation\", \"relationship\", \"race\",\n",
    "                 \"sex\", \"capital-gain\", \"capital-loss\", \"hours-per-week\",\n",
    "                 \"native-country\", \"income\"]"
   ]
  },
  {
   "cell_type": "code",
   "execution_count": 84,
   "metadata": {},
   "outputs": [
    {
     "data": {
      "text/plain": [
       "(32561, 15)"
      ]
     },
     "execution_count": 84,
     "metadata": {},
     "output_type": "execute_result"
    }
   ],
   "source": [
    "treino = pd.read_csv('dados/adult.data', header=None, names=col_names, na_values = (\" ?\", \"?\", \"\"))\n",
    "treino.shape # 32561, 15 (32561 instancias e 15 atributos). Atributo classe: income"
   ]
  },
  {
   "cell_type": "markdown",
   "metadata": {},
   "source": [
    "## DESCRIÇÃO DOS DADOS"
   ]
  },
  {
   "cell_type": "code",
   "execution_count": 85,
   "metadata": {},
   "outputs": [
    {
     "data": {
      "text/html": [
       "<div>\n",
       "<style scoped>\n",
       "    .dataframe tbody tr th:only-of-type {\n",
       "        vertical-align: middle;\n",
       "    }\n",
       "\n",
       "    .dataframe tbody tr th {\n",
       "        vertical-align: top;\n",
       "    }\n",
       "\n",
       "    .dataframe thead th {\n",
       "        text-align: right;\n",
       "    }\n",
       "</style>\n",
       "<table border=\"1\" class=\"dataframe\">\n",
       "  <thead>\n",
       "    <tr style=\"text-align: right;\">\n",
       "      <th></th>\n",
       "      <th>age</th>\n",
       "      <th>workclass</th>\n",
       "      <th>fnlwgt</th>\n",
       "      <th>education</th>\n",
       "      <th>education-num</th>\n",
       "      <th>marital-status</th>\n",
       "      <th>occupation</th>\n",
       "      <th>relationship</th>\n",
       "      <th>race</th>\n",
       "      <th>sex</th>\n",
       "      <th>capital-gain</th>\n",
       "      <th>capital-loss</th>\n",
       "      <th>hours-per-week</th>\n",
       "      <th>native-country</th>\n",
       "      <th>income</th>\n",
       "    </tr>\n",
       "  </thead>\n",
       "  <tbody>\n",
       "    <tr>\n",
       "      <th>0</th>\n",
       "      <td>39</td>\n",
       "      <td>State-gov</td>\n",
       "      <td>77516</td>\n",
       "      <td>Bachelors</td>\n",
       "      <td>13</td>\n",
       "      <td>Never-married</td>\n",
       "      <td>Adm-clerical</td>\n",
       "      <td>Not-in-family</td>\n",
       "      <td>White</td>\n",
       "      <td>Male</td>\n",
       "      <td>2174</td>\n",
       "      <td>0</td>\n",
       "      <td>40</td>\n",
       "      <td>United-States</td>\n",
       "      <td>&lt;=50K</td>\n",
       "    </tr>\n",
       "    <tr>\n",
       "      <th>1</th>\n",
       "      <td>50</td>\n",
       "      <td>Self-emp-not-inc</td>\n",
       "      <td>83311</td>\n",
       "      <td>Bachelors</td>\n",
       "      <td>13</td>\n",
       "      <td>Married-civ-spouse</td>\n",
       "      <td>Exec-managerial</td>\n",
       "      <td>Husband</td>\n",
       "      <td>White</td>\n",
       "      <td>Male</td>\n",
       "      <td>0</td>\n",
       "      <td>0</td>\n",
       "      <td>13</td>\n",
       "      <td>United-States</td>\n",
       "      <td>&lt;=50K</td>\n",
       "    </tr>\n",
       "    <tr>\n",
       "      <th>2</th>\n",
       "      <td>38</td>\n",
       "      <td>Private</td>\n",
       "      <td>215646</td>\n",
       "      <td>HS-grad</td>\n",
       "      <td>9</td>\n",
       "      <td>Divorced</td>\n",
       "      <td>Handlers-cleaners</td>\n",
       "      <td>Not-in-family</td>\n",
       "      <td>White</td>\n",
       "      <td>Male</td>\n",
       "      <td>0</td>\n",
       "      <td>0</td>\n",
       "      <td>40</td>\n",
       "      <td>United-States</td>\n",
       "      <td>&lt;=50K</td>\n",
       "    </tr>\n",
       "    <tr>\n",
       "      <th>3</th>\n",
       "      <td>53</td>\n",
       "      <td>Private</td>\n",
       "      <td>234721</td>\n",
       "      <td>11th</td>\n",
       "      <td>7</td>\n",
       "      <td>Married-civ-spouse</td>\n",
       "      <td>Handlers-cleaners</td>\n",
       "      <td>Husband</td>\n",
       "      <td>Black</td>\n",
       "      <td>Male</td>\n",
       "      <td>0</td>\n",
       "      <td>0</td>\n",
       "      <td>40</td>\n",
       "      <td>United-States</td>\n",
       "      <td>&lt;=50K</td>\n",
       "    </tr>\n",
       "    <tr>\n",
       "      <th>4</th>\n",
       "      <td>28</td>\n",
       "      <td>Private</td>\n",
       "      <td>338409</td>\n",
       "      <td>Bachelors</td>\n",
       "      <td>13</td>\n",
       "      <td>Married-civ-spouse</td>\n",
       "      <td>Prof-specialty</td>\n",
       "      <td>Wife</td>\n",
       "      <td>Black</td>\n",
       "      <td>Female</td>\n",
       "      <td>0</td>\n",
       "      <td>0</td>\n",
       "      <td>40</td>\n",
       "      <td>Cuba</td>\n",
       "      <td>&lt;=50K</td>\n",
       "    </tr>\n",
       "  </tbody>\n",
       "</table>\n",
       "</div>"
      ],
      "text/plain": [
       "   age          workclass  fnlwgt   education  education-num  \\\n",
       "0   39          State-gov   77516   Bachelors             13   \n",
       "1   50   Self-emp-not-inc   83311   Bachelors             13   \n",
       "2   38            Private  215646     HS-grad              9   \n",
       "3   53            Private  234721        11th              7   \n",
       "4   28            Private  338409   Bachelors             13   \n",
       "\n",
       "        marital-status          occupation    relationship    race      sex  \\\n",
       "0        Never-married        Adm-clerical   Not-in-family   White     Male   \n",
       "1   Married-civ-spouse     Exec-managerial         Husband   White     Male   \n",
       "2             Divorced   Handlers-cleaners   Not-in-family   White     Male   \n",
       "3   Married-civ-spouse   Handlers-cleaners         Husband   Black     Male   \n",
       "4   Married-civ-spouse      Prof-specialty            Wife   Black   Female   \n",
       "\n",
       "   capital-gain  capital-loss  hours-per-week  native-country  income  \n",
       "0          2174             0              40   United-States   <=50K  \n",
       "1             0             0              13   United-States   <=50K  \n",
       "2             0             0              40   United-States   <=50K  \n",
       "3             0             0              40   United-States   <=50K  \n",
       "4             0             0              40            Cuba   <=50K  "
      ]
     },
     "execution_count": 85,
     "metadata": {},
     "output_type": "execute_result"
    }
   ],
   "source": [
    "treino.head()"
   ]
  },
  {
   "cell_type": "code",
   "execution_count": 86,
   "metadata": {},
   "outputs": [
    {
     "name": "stdout",
     "output_type": "stream",
     "text": [
      "<class 'pandas.core.frame.DataFrame'>\n",
      "RangeIndex: 32561 entries, 0 to 32560\n",
      "Data columns (total 15 columns):\n",
      "age               32561 non-null int64\n",
      "workclass         30725 non-null object\n",
      "fnlwgt            32561 non-null int64\n",
      "education         32561 non-null object\n",
      "education-num     32561 non-null int64\n",
      "marital-status    32561 non-null object\n",
      "occupation        30718 non-null object\n",
      "relationship      32561 non-null object\n",
      "race              32561 non-null object\n",
      "sex               32561 non-null object\n",
      "capital-gain      32561 non-null int64\n",
      "capital-loss      32561 non-null int64\n",
      "hours-per-week    32561 non-null int64\n",
      "native-country    31978 non-null object\n",
      "income            32561 non-null object\n",
      "dtypes: int64(6), object(9)\n",
      "memory usage: 3.7+ MB\n"
     ]
    }
   ],
   "source": [
    "treino.info()"
   ]
  },
  {
   "cell_type": "markdown",
   "metadata": {},
   "source": [
    "## Estatísticas descritivas"
   ]
  },
  {
   "cell_type": "markdown",
   "metadata": {},
   "source": [
    "#### Atributos quantitativos"
   ]
  },
  {
   "cell_type": "code",
   "execution_count": 97,
   "metadata": {},
   "outputs": [
    {
     "data": {
      "text/html": [
       "<div>\n",
       "<style scoped>\n",
       "    .dataframe tbody tr th:only-of-type {\n",
       "        vertical-align: middle;\n",
       "    }\n",
       "\n",
       "    .dataframe tbody tr th {\n",
       "        vertical-align: top;\n",
       "    }\n",
       "\n",
       "    .dataframe thead th {\n",
       "        text-align: right;\n",
       "    }\n",
       "</style>\n",
       "<table border=\"1\" class=\"dataframe\">\n",
       "  <thead>\n",
       "    <tr style=\"text-align: right;\">\n",
       "      <th></th>\n",
       "      <th>age</th>\n",
       "      <th>fnlwgt</th>\n",
       "      <th>education-num</th>\n",
       "      <th>capital-gain</th>\n",
       "      <th>capital-loss</th>\n",
       "      <th>hours-per-week</th>\n",
       "    </tr>\n",
       "  </thead>\n",
       "  <tbody>\n",
       "    <tr>\n",
       "      <th>count</th>\n",
       "      <td>32561.000000</td>\n",
       "      <td>3.256100e+04</td>\n",
       "      <td>32561.000000</td>\n",
       "      <td>32561.000000</td>\n",
       "      <td>32561.000000</td>\n",
       "      <td>32561.000000</td>\n",
       "    </tr>\n",
       "    <tr>\n",
       "      <th>mean</th>\n",
       "      <td>38.581647</td>\n",
       "      <td>1.897784e+05</td>\n",
       "      <td>10.080679</td>\n",
       "      <td>1077.648844</td>\n",
       "      <td>87.303830</td>\n",
       "      <td>40.437456</td>\n",
       "    </tr>\n",
       "    <tr>\n",
       "      <th>std</th>\n",
       "      <td>13.640433</td>\n",
       "      <td>1.055500e+05</td>\n",
       "      <td>2.572720</td>\n",
       "      <td>7385.292085</td>\n",
       "      <td>402.960219</td>\n",
       "      <td>12.347429</td>\n",
       "    </tr>\n",
       "    <tr>\n",
       "      <th>min</th>\n",
       "      <td>17.000000</td>\n",
       "      <td>1.228500e+04</td>\n",
       "      <td>1.000000</td>\n",
       "      <td>0.000000</td>\n",
       "      <td>0.000000</td>\n",
       "      <td>1.000000</td>\n",
       "    </tr>\n",
       "    <tr>\n",
       "      <th>25%</th>\n",
       "      <td>28.000000</td>\n",
       "      <td>1.178270e+05</td>\n",
       "      <td>9.000000</td>\n",
       "      <td>0.000000</td>\n",
       "      <td>0.000000</td>\n",
       "      <td>40.000000</td>\n",
       "    </tr>\n",
       "    <tr>\n",
       "      <th>50%</th>\n",
       "      <td>37.000000</td>\n",
       "      <td>1.783560e+05</td>\n",
       "      <td>10.000000</td>\n",
       "      <td>0.000000</td>\n",
       "      <td>0.000000</td>\n",
       "      <td>40.000000</td>\n",
       "    </tr>\n",
       "    <tr>\n",
       "      <th>75%</th>\n",
       "      <td>48.000000</td>\n",
       "      <td>2.370510e+05</td>\n",
       "      <td>12.000000</td>\n",
       "      <td>0.000000</td>\n",
       "      <td>0.000000</td>\n",
       "      <td>45.000000</td>\n",
       "    </tr>\n",
       "    <tr>\n",
       "      <th>max</th>\n",
       "      <td>90.000000</td>\n",
       "      <td>1.484705e+06</td>\n",
       "      <td>16.000000</td>\n",
       "      <td>99999.000000</td>\n",
       "      <td>4356.000000</td>\n",
       "      <td>99.000000</td>\n",
       "    </tr>\n",
       "  </tbody>\n",
       "</table>\n",
       "</div>"
      ],
      "text/plain": [
       "                age        fnlwgt  education-num  capital-gain  capital-loss  \\\n",
       "count  32561.000000  3.256100e+04   32561.000000  32561.000000  32561.000000   \n",
       "mean      38.581647  1.897784e+05      10.080679   1077.648844     87.303830   \n",
       "std       13.640433  1.055500e+05       2.572720   7385.292085    402.960219   \n",
       "min       17.000000  1.228500e+04       1.000000      0.000000      0.000000   \n",
       "25%       28.000000  1.178270e+05       9.000000      0.000000      0.000000   \n",
       "50%       37.000000  1.783560e+05      10.000000      0.000000      0.000000   \n",
       "75%       48.000000  2.370510e+05      12.000000      0.000000      0.000000   \n",
       "max       90.000000  1.484705e+06      16.000000  99999.000000   4356.000000   \n",
       "\n",
       "       hours-per-week  \n",
       "count    32561.000000  \n",
       "mean        40.437456  \n",
       "std         12.347429  \n",
       "min          1.000000  \n",
       "25%         40.000000  \n",
       "50%         40.000000  \n",
       "75%         45.000000  \n",
       "max         99.000000  "
      ]
     },
     "execution_count": 97,
     "metadata": {},
     "output_type": "execute_result"
    }
   ],
   "source": [
    "treino.describe()"
   ]
  },
  {
   "cell_type": "code",
   "execution_count": 115,
   "metadata": {},
   "outputs": [
    {
     "data": {
      "text/plain": [
       "(-100.0, 19999.8]     32308\n",
       "(79999.2, 99999.0]      159\n",
       "(19999.8, 39999.6]       92\n",
       "(39999.6, 59999.4]        2\n",
       "(59999.4, 79999.2]        0\n",
       "Name: capital-gain, dtype: int64"
      ]
     },
     "execution_count": 115,
     "metadata": {},
     "output_type": "execute_result"
    }
   ],
   "source": [
    "# classificado em 5 intervalos (agrupamentos)\n",
    "treino['capital-gain'].value_counts(bins=5)"
   ]
  },
  {
   "cell_type": "markdown",
   "metadata": {},
   "source": [
    "#### Atributos qualitativos"
   ]
  },
  {
   "cell_type": "code",
   "execution_count": 100,
   "metadata": {},
   "outputs": [
    {
     "data": {
      "text/plain": [
       " Private             22696\n",
       " Self-emp-not-inc     2541\n",
       " Local-gov            2093\n",
       " State-gov            1298\n",
       " Self-emp-inc         1116\n",
       " Federal-gov           960\n",
       " Without-pay            14\n",
       " Never-worked            7\n",
       "Name: workclass, dtype: int64"
      ]
     },
     "execution_count": 100,
     "metadata": {},
     "output_type": "execute_result"
    }
   ],
   "source": [
    "treino['workclass'].value_counts()"
   ]
  },
  {
   "cell_type": "code",
   "execution_count": 101,
   "metadata": {},
   "outputs": [
    {
     "data": {
      "text/plain": [
       " HS-grad         10501\n",
       " Some-college     7291\n",
       " Bachelors        5355\n",
       " Masters          1723\n",
       " Assoc-voc        1382\n",
       " 11th             1175\n",
       " Assoc-acdm       1067\n",
       " 10th              933\n",
       " 7th-8th           646\n",
       " Prof-school       576\n",
       " 9th               514\n",
       " 12th              433\n",
       " Doctorate         413\n",
       " 5th-6th           333\n",
       " 1st-4th           168\n",
       " Preschool          51\n",
       "Name: education, dtype: int64"
      ]
     },
     "execution_count": 101,
     "metadata": {},
     "output_type": "execute_result"
    }
   ],
   "source": [
    "treino['education'].value_counts()"
   ]
  },
  {
   "cell_type": "code",
   "execution_count": 102,
   "metadata": {},
   "outputs": [
    {
     "data": {
      "text/plain": [
       " Married-civ-spouse       14976\n",
       " Never-married            10683\n",
       " Divorced                  4443\n",
       " Separated                 1025\n",
       " Widowed                    993\n",
       " Married-spouse-absent      418\n",
       " Married-AF-spouse           23\n",
       "Name: marital-status, dtype: int64"
      ]
     },
     "execution_count": 102,
     "metadata": {},
     "output_type": "execute_result"
    }
   ],
   "source": [
    "treino['marital-status'].value_counts()"
   ]
  },
  {
   "cell_type": "code",
   "execution_count": 103,
   "metadata": {},
   "outputs": [
    {
     "data": {
      "text/plain": [
       " Prof-specialty       4140\n",
       " Craft-repair         4099\n",
       " Exec-managerial      4066\n",
       " Adm-clerical         3770\n",
       " Sales                3650\n",
       " Other-service        3295\n",
       " Machine-op-inspct    2002\n",
       " Transport-moving     1597\n",
       " Handlers-cleaners    1370\n",
       " Farming-fishing       994\n",
       " Tech-support          928\n",
       " Protective-serv       649\n",
       " Priv-house-serv       149\n",
       " Armed-Forces            9\n",
       "Name: occupation, dtype: int64"
      ]
     },
     "execution_count": 103,
     "metadata": {},
     "output_type": "execute_result"
    }
   ],
   "source": [
    "treino['occupation'].value_counts()"
   ]
  },
  {
   "cell_type": "code",
   "execution_count": 104,
   "metadata": {},
   "outputs": [
    {
     "data": {
      "text/plain": [
       " Husband           13193\n",
       " Not-in-family      8305\n",
       " Own-child          5068\n",
       " Unmarried          3446\n",
       " Wife               1568\n",
       " Other-relative      981\n",
       "Name: relationship, dtype: int64"
      ]
     },
     "execution_count": 104,
     "metadata": {},
     "output_type": "execute_result"
    }
   ],
   "source": [
    "treino['relationship'].value_counts()"
   ]
  },
  {
   "cell_type": "code",
   "execution_count": 105,
   "metadata": {},
   "outputs": [
    {
     "data": {
      "text/plain": [
       " White                 27816\n",
       " Black                  3124\n",
       " Asian-Pac-Islander     1039\n",
       " Amer-Indian-Eskimo      311\n",
       " Other                   271\n",
       "Name: race, dtype: int64"
      ]
     },
     "execution_count": 105,
     "metadata": {},
     "output_type": "execute_result"
    }
   ],
   "source": [
    "treino['race'].value_counts()"
   ]
  },
  {
   "cell_type": "code",
   "execution_count": 106,
   "metadata": {},
   "outputs": [
    {
     "data": {
      "text/plain": [
       " Male      21790\n",
       " Female    10771\n",
       "Name: sex, dtype: int64"
      ]
     },
     "execution_count": 106,
     "metadata": {},
     "output_type": "execute_result"
    }
   ],
   "source": [
    "treino['sex'].value_counts()"
   ]
  },
  {
   "cell_type": "code",
   "execution_count": 121,
   "metadata": {},
   "outputs": [
    {
     "data": {
      "text/plain": [
       " United-States    29170\n",
       " Mexico             643\n",
       " Philippines        198\n",
       " Germany            137\n",
       " Canada             121\n",
       " Puerto-Rico        114\n",
       " El-Salvador        106\n",
       " India              100\n",
       " Cuba                95\n",
       " England             90\n",
       "Name: native-country, dtype: int64"
      ]
     },
     "execution_count": 121,
     "metadata": {},
     "output_type": "execute_result"
    }
   ],
   "source": [
    "# A função nlargest exibe os n maiores em quantidade. Se quiser exibir todos, deve-se apagar esta função.\n",
    "treino['native-country'].value_counts().nlargest(10)\n",
    "# treino['native-country'].value_counts()"
   ]
  },
  {
   "cell_type": "code",
   "execution_count": 108,
   "metadata": {},
   "outputs": [
    {
     "data": {
      "text/plain": [
       "array([' <=50K', ' >50K'], dtype=object)"
      ]
     },
     "execution_count": 108,
     "metadata": {},
     "output_type": "execute_result"
    }
   ],
   "source": [
    "treino['income'].unique()"
   ]
  },
  {
   "cell_type": "code",
   "execution_count": 109,
   "metadata": {},
   "outputs": [
    {
     "data": {
      "text/plain": [
       " <=50K    24720\n",
       " >50K      7841\n",
       "Name: income, dtype: int64"
      ]
     },
     "execution_count": 109,
     "metadata": {},
     "output_type": "execute_result"
    }
   ],
   "source": [
    "treino['income'].value_counts()"
   ]
  },
  {
   "cell_type": "code",
   "execution_count": null,
   "metadata": {},
   "outputs": [],
   "source": []
  },
  {
   "cell_type": "code",
   "execution_count": 89,
   "metadata": {},
   "outputs": [],
   "source": [
    "teste = pd.read_csv('dados/adult.test', header=None, names=col_names, skiprows =1, na_values = (\" ?\", \"?\", \"\"))\n",
    "# test_data = pd.read_csv('adult.test', names = columns, sep=' *, *', skiprows =1, na_values='?')"
   ]
  },
  {
   "cell_type": "code",
   "execution_count": 90,
   "metadata": {},
   "outputs": [
    {
     "data": {
      "text/html": [
       "<div>\n",
       "<style scoped>\n",
       "    .dataframe tbody tr th:only-of-type {\n",
       "        vertical-align: middle;\n",
       "    }\n",
       "\n",
       "    .dataframe tbody tr th {\n",
       "        vertical-align: top;\n",
       "    }\n",
       "\n",
       "    .dataframe thead th {\n",
       "        text-align: right;\n",
       "    }\n",
       "</style>\n",
       "<table border=\"1\" class=\"dataframe\">\n",
       "  <thead>\n",
       "    <tr style=\"text-align: right;\">\n",
       "      <th></th>\n",
       "      <th>age</th>\n",
       "      <th>workclass</th>\n",
       "      <th>fnlwgt</th>\n",
       "      <th>education</th>\n",
       "      <th>education-num</th>\n",
       "      <th>marital-status</th>\n",
       "      <th>occupation</th>\n",
       "      <th>relationship</th>\n",
       "      <th>race</th>\n",
       "      <th>sex</th>\n",
       "      <th>capital-gain</th>\n",
       "      <th>capital-loss</th>\n",
       "      <th>hours-per-week</th>\n",
       "      <th>native-country</th>\n",
       "      <th>income</th>\n",
       "    </tr>\n",
       "  </thead>\n",
       "  <tbody>\n",
       "    <tr>\n",
       "      <th>0</th>\n",
       "      <td>25</td>\n",
       "      <td>Private</td>\n",
       "      <td>226802</td>\n",
       "      <td>11th</td>\n",
       "      <td>7</td>\n",
       "      <td>Never-married</td>\n",
       "      <td>Machine-op-inspct</td>\n",
       "      <td>Own-child</td>\n",
       "      <td>Black</td>\n",
       "      <td>Male</td>\n",
       "      <td>0</td>\n",
       "      <td>0</td>\n",
       "      <td>40</td>\n",
       "      <td>United-States</td>\n",
       "      <td>&lt;=50K.</td>\n",
       "    </tr>\n",
       "    <tr>\n",
       "      <th>1</th>\n",
       "      <td>38</td>\n",
       "      <td>Private</td>\n",
       "      <td>89814</td>\n",
       "      <td>HS-grad</td>\n",
       "      <td>9</td>\n",
       "      <td>Married-civ-spouse</td>\n",
       "      <td>Farming-fishing</td>\n",
       "      <td>Husband</td>\n",
       "      <td>White</td>\n",
       "      <td>Male</td>\n",
       "      <td>0</td>\n",
       "      <td>0</td>\n",
       "      <td>50</td>\n",
       "      <td>United-States</td>\n",
       "      <td>&lt;=50K.</td>\n",
       "    </tr>\n",
       "    <tr>\n",
       "      <th>2</th>\n",
       "      <td>28</td>\n",
       "      <td>Local-gov</td>\n",
       "      <td>336951</td>\n",
       "      <td>Assoc-acdm</td>\n",
       "      <td>12</td>\n",
       "      <td>Married-civ-spouse</td>\n",
       "      <td>Protective-serv</td>\n",
       "      <td>Husband</td>\n",
       "      <td>White</td>\n",
       "      <td>Male</td>\n",
       "      <td>0</td>\n",
       "      <td>0</td>\n",
       "      <td>40</td>\n",
       "      <td>United-States</td>\n",
       "      <td>&gt;50K.</td>\n",
       "    </tr>\n",
       "    <tr>\n",
       "      <th>3</th>\n",
       "      <td>44</td>\n",
       "      <td>Private</td>\n",
       "      <td>160323</td>\n",
       "      <td>Some-college</td>\n",
       "      <td>10</td>\n",
       "      <td>Married-civ-spouse</td>\n",
       "      <td>Machine-op-inspct</td>\n",
       "      <td>Husband</td>\n",
       "      <td>Black</td>\n",
       "      <td>Male</td>\n",
       "      <td>7688</td>\n",
       "      <td>0</td>\n",
       "      <td>40</td>\n",
       "      <td>United-States</td>\n",
       "      <td>&gt;50K.</td>\n",
       "    </tr>\n",
       "    <tr>\n",
       "      <th>4</th>\n",
       "      <td>18</td>\n",
       "      <td>NaN</td>\n",
       "      <td>103497</td>\n",
       "      <td>Some-college</td>\n",
       "      <td>10</td>\n",
       "      <td>Never-married</td>\n",
       "      <td>NaN</td>\n",
       "      <td>Own-child</td>\n",
       "      <td>White</td>\n",
       "      <td>Female</td>\n",
       "      <td>0</td>\n",
       "      <td>0</td>\n",
       "      <td>30</td>\n",
       "      <td>United-States</td>\n",
       "      <td>&lt;=50K.</td>\n",
       "    </tr>\n",
       "  </tbody>\n",
       "</table>\n",
       "</div>"
      ],
      "text/plain": [
       "   age   workclass  fnlwgt      education  education-num       marital-status  \\\n",
       "0   25     Private  226802           11th              7        Never-married   \n",
       "1   38     Private   89814        HS-grad              9   Married-civ-spouse   \n",
       "2   28   Local-gov  336951     Assoc-acdm             12   Married-civ-spouse   \n",
       "3   44     Private  160323   Some-college             10   Married-civ-spouse   \n",
       "4   18         NaN  103497   Some-college             10        Never-married   \n",
       "\n",
       "           occupation relationship    race      sex  capital-gain  \\\n",
       "0   Machine-op-inspct    Own-child   Black     Male             0   \n",
       "1     Farming-fishing      Husband   White     Male             0   \n",
       "2     Protective-serv      Husband   White     Male             0   \n",
       "3   Machine-op-inspct      Husband   Black     Male          7688   \n",
       "4                 NaN    Own-child   White   Female             0   \n",
       "\n",
       "   capital-loss  hours-per-week  native-country   income  \n",
       "0             0              40   United-States   <=50K.  \n",
       "1             0              50   United-States   <=50K.  \n",
       "2             0              40   United-States    >50K.  \n",
       "3             0              40   United-States    >50K.  \n",
       "4             0              30   United-States   <=50K.  "
      ]
     },
     "execution_count": 90,
     "metadata": {},
     "output_type": "execute_result"
    }
   ],
   "source": [
    "teste.head()"
   ]
  },
  {
   "cell_type": "code",
   "execution_count": 91,
   "metadata": {},
   "outputs": [
    {
     "name": "stdout",
     "output_type": "stream",
     "text": [
      "<class 'pandas.core.frame.DataFrame'>\n",
      "RangeIndex: 16281 entries, 0 to 16280\n",
      "Data columns (total 15 columns):\n",
      "age               16281 non-null int64\n",
      "workclass         15318 non-null object\n",
      "fnlwgt            16281 non-null int64\n",
      "education         16281 non-null object\n",
      "education-num     16281 non-null int64\n",
      "marital-status    16281 non-null object\n",
      "occupation        15315 non-null object\n",
      "relationship      16281 non-null object\n",
      "race              16281 non-null object\n",
      "sex               16281 non-null object\n",
      "capital-gain      16281 non-null int64\n",
      "capital-loss      16281 non-null int64\n",
      "hours-per-week    16281 non-null int64\n",
      "native-country    16007 non-null object\n",
      "income            16281 non-null object\n",
      "dtypes: int64(6), object(9)\n",
      "memory usage: 1.9+ MB\n"
     ]
    }
   ],
   "source": [
    "teste.info()"
   ]
  },
  {
   "cell_type": "code",
   "execution_count": null,
   "metadata": {},
   "outputs": [],
   "source": [
    "# para adaptar no caso de valores nulos\n",
    "media_de_idade = df_train['Age'].mean()\n",
    "df_train.loc[df_train['Age']==133, 'Age'] = media_de_idade"
   ]
  },
  {
   "cell_type": "code",
   "execution_count": null,
   "metadata": {},
   "outputs": [],
   "source": [
    "# visualize variable interactions\n",
    "sns.pairplot(treino)"
   ]
  },
  {
   "cell_type": "markdown",
   "metadata": {},
   "source": [
    "## TRATAMENTO DOS DADOS"
   ]
  },
  {
   "cell_type": "markdown",
   "metadata": {},
   "source": [
    "### Strategies for handling missing values"
   ]
  },
  {
   "cell_type": "markdown",
   "metadata": {},
   "source": [
    "Here we do data preprocessing also:\n",
    "Remove FNLWGT and EDUCATION-NUM attributes as they are of little use to our analysis.\n",
    "EDUCATION-NUM is the duplicate of EDUCATION.\n",
    "The missing values in the adult dataset are marked by ‘?’.We can implement these two strategies\n",
    "for handling the missing values in the adult dataset:\n",
    "1. Deleting all the rows containing the missing value. This seems a far-fetched method but\n",
    "we only lose a couple thousand observations when we have a pool of more than forty\n",
    "thousand.\n",
    "2.This could have also been done by replacing the missing value\n",
    "- By the most common value in that column - for categorical attributes\n",
    "- By averaging (taking the mean) - for continuous attributes.\n",
    "\n",
    "\n",
    "We apply these two strategies to produce two sets of adult dataset. Namely – <u>dataset-removed-\n",
    "missing.csv</u> and <u>dataset-replaced-missing.csv</u>"
   ]
  },
  {
   "cell_type": "markdown",
   "metadata": {},
   "source": [
    "Input: dataset-data+test.csv <br>\n",
    "adult.data.csv <br>\n",
    "adult.test.csv <br>\n",
    "Output: dataset-replaced-missing.csv <br>\n",
    "Dataset-removed-missing.csv <br>\n",
    "The input files are provided in the INPUT folder. The output files generated are there as an\n",
    "example."
   ]
  },
  {
   "cell_type": "markdown",
   "metadata": {},
   "source": [
    "#### Existem atributos com missing: 'workclass', 'occupation', 'native.country'"
   ]
  },
  {
   "cell_type": "markdown",
   "metadata": {},
   "source": [
    "We can see that the columns have a good fill rate. We'll remove the rows that have empty values and also remove the education_num column as it contains the same information, such as education and its unique codes:>>> data = data.dropna(how='any')>>> del data['education_num']"
   ]
  },
  {
   "cell_type": "code",
   "execution_count": 92,
   "metadata": {},
   "outputs": [
    {
     "data": {
      "text/plain": [
       "age               100.000000\n",
       "workclass          94.361353\n",
       "fnlwgt            100.000000\n",
       "education         100.000000\n",
       "education-num     100.000000\n",
       "marital-status    100.000000\n",
       "occupation         94.339854\n",
       "relationship      100.000000\n",
       "race              100.000000\n",
       "sex               100.000000\n",
       "capital-gain      100.000000\n",
       "capital-loss      100.000000\n",
       "hours-per-week    100.000000\n",
       "native-country     98.209514\n",
       "income            100.000000\n",
       "dtype: float64"
      ]
     },
     "execution_count": 92,
     "metadata": {},
     "output_type": "execute_result"
    }
   ],
   "source": [
    "treino.count(0)/treino.shape[0] * 100"
   ]
  },
  {
   "cell_type": "code",
   "execution_count": 93,
   "metadata": {},
   "outputs": [
    {
     "name": "stdout",
     "output_type": "stream",
     "text": [
      "age                  0\n",
      "workclass         1836\n",
      "fnlwgt               0\n",
      "education            0\n",
      "education-num        0\n",
      "marital-status       0\n",
      "occupation        1843\n",
      "relationship         0\n",
      "race                 0\n",
      "sex                  0\n",
      "capital-gain         0\n",
      "capital-loss         0\n",
      "hours-per-week       0\n",
      "native-country     583\n",
      "income               0\n",
      "dtype: int64\n"
     ]
    }
   ],
   "source": [
    "# tratar valores missing\n",
    "# Verificar se tem valores nulos: \n",
    "print(treino.apply(lambda x: sum(x.isnull()), axis = 0)) # retornaram nulos"
   ]
  },
  {
   "cell_type": "code",
   "execution_count": 94,
   "metadata": {},
   "outputs": [
    {
     "data": {
      "text/plain": [
       "age                  0\n",
       "workclass         1836\n",
       "fnlwgt               0\n",
       "education            0\n",
       "education-num        0\n",
       "marital-status       0\n",
       "occupation        1843\n",
       "relationship         0\n",
       "race                 0\n",
       "sex                  0\n",
       "capital-gain         0\n",
       "capital-loss         0\n",
       "hours-per-week       0\n",
       "native-country     583\n",
       "income               0\n",
       "dtype: int64"
      ]
     },
     "execution_count": 94,
     "metadata": {},
     "output_type": "execute_result"
    }
   ],
   "source": [
    "treino.isnull().sum()"
   ]
  },
  {
   "cell_type": "code",
   "execution_count": 34,
   "metadata": {},
   "outputs": [
    {
     "name": "stdout",
     "output_type": "stream",
     "text": [
      "número de instancias removidas: 2399\n",
      "Total de instancias resultante: 30162\n"
     ]
    }
   ],
   "source": [
    "# O problema é que tem informacoes com \"?\"\n",
    "# Replace all \" ?\" with NaN and then drop rows where NaN appears\n",
    "treino_trat = treino.replace(' ?', np.nan).dropna()\n",
    "print(\"número de instancias removidas:\", len(treino) - len(treino_trat))\n",
    "print(\"Total de instancias resultante:\", len(treino_trat))"
   ]
  },
  {
   "cell_type": "markdown",
   "metadata": {},
   "source": [
    "## HIPÓTESES"
   ]
  },
  {
   "cell_type": "markdown",
   "metadata": {},
   "source": [
    "Hypothesis 1: People who are older earn more\n",
    "    Conclusão: We can see that people who earn above $50K are mostly aged between their late 30s and mid 50s, whereas people who earn less than $50K are primarily  aged between 20 and 30\n",
    "\n",
    "Hypothesis 2: Income bias based on working class: distribution of people earning more than $50K between different working class groups \n",
    "    Conclusão: We see that people who are self-employed and have a company have got the maximum share of people who earn more than $50K. The second most well-off group in terms of earning are federal government employees\n",
    "\n",
    "Hypothesis 3: People with more education earn more.\n",
    "    Conclusão: We can see that the more the person is educated, the greater the number of people in their group who earn more than $50K\n",
    "\n",
    "Hypothesis 4: Married people tend to earn more\n",
    "    Conclusão: We can see that people who are married earn better as compared to people who  are single.\n",
    "\n",
    "Hypothesis 5: There is a bias in income based on race\n",
    "    Asian Pacific people and Whites have the highest earning power\n",
    "\n",
    "Hypothesis 6: There is a bias in the income based on occupation\n",
    "    We can see that people who are in specialized or managerial positions earn more\n",
    "\n",
    "Hypothesis 7: Men earn more\n",
    "    It's no surprise to see that males have a higher earning power as compared to females. It will be good to see the two bars at an equal level sometime in the future\n",
    "\n",
    "Hypothesis 8: People who clock in more hours earn more\n",
    "    We can see that people who earn more than $50K and less than this have an average of 40 working hours per week, but it can be seen that people who earn above $50K have a higher number of people who work more than 40 hours\n",
    "    \n",
    "Hypothesis 9: There is a bias in income based on the country of origin\n",
    "    We can see that Taiwanese, French, Iranians, and Indians are the most well-earning people among different counties"
   ]
  },
  {
   "cell_type": "code",
   "execution_count": null,
   "metadata": {},
   "outputs": [],
   "source": [
    "# Para a base de teste, após verificar qual a melhor forma de tratar os dados:\n",
    "data_test = data_test.dropna(how='any')"
   ]
  },
  {
   "cell_type": "code",
   "execution_count": null,
   "metadata": {},
   "outputs": [],
   "source": [
    "# ===== DIVISÃO DOS ATRIBUTOS EM PREVISORES E CLASSE\n",
    "previsores = census_trat.iloc[:,0:14].values\n",
    "classe = census_trat.iloc[:,14].values"
   ]
  },
  {
   "cell_type": "code",
   "execution_count": null,
   "metadata": {},
   "outputs": [],
   "source": [
    "# LABELENCODER: TRANSFORMAR ATRIBUTOS CATEGORICOS EM ATRIBUTOS DISCRETOS (numericos) \n",
    "#  Selecionar somente atributos com dados categoricos\n",
    "census.dtypes # para ver quem sera transformados; object\n",
    "\n",
    "labelencoder = LabelEncoder()\n",
    "previsores[:, 1] = labelencoder.fit_transform(previsores[:, 1])\n",
    "previsores[:, 3] = labelencoder.fit_transform(previsores[:, 3])\n",
    "previsores[:, 5] = labelencoder.fit_transform(previsores[:, 5])\n",
    "previsores[:, 6] = labelencoder.fit_transform(previsores[:, 6])\n",
    "previsores[:, 7] = labelencoder.fit_transform(previsores[:, 7])\n",
    "previsores[:, 8] = labelencoder.fit_transform(previsores[:, 8])\n",
    "previsores[:, 9] = labelencoder.fit_transform(previsores[:, 9])\n",
    "previsores[:, 13] = labelencoder.fit_transform(previsores[:, 13])\n"
   ]
  },
  {
   "cell_type": "code",
   "execution_count": null,
   "metadata": {},
   "outputs": [],
   "source": [
    "# LABELENCODER: TRANSFORMAR ATRIBUTOS CATEGORICOS EM ATRIBUTOS DISCRETOS \n",
    "# ficou codificado assim: <= 50 =0. E > 50 = 1\n",
    "labelencoder_classe = LabelEncoder()\n",
    "classe = labelencoder_classe.fit_transform(classe)"
   ]
  },
  {
   "cell_type": "code",
   "execution_count": null,
   "metadata": {},
   "outputs": [],
   "source": [
    "# ==============================================================================\n",
    "# TRANSFORMAÇÃO DE VARIÁVEIS CATEGÓRICAS II: Variáveis Dummy:\n",
    "# ==============================================================================\n",
    "column_tranformer = ColumnTransformer([('one_hot_encoder', OneHotEncoder(), [1, 3, 5, 6, 7, 8, 9, 13])],remainder='passthrough')"
   ]
  },
  {
   "cell_type": "code",
   "execution_count": null,
   "metadata": {},
   "outputs": [],
   "source": [
    "# ==============================================================================\n",
    "# EXCLUIR ATRIBUTOS ESPELHOS: fnlwgt E education-num\n",
    "# =============================================================================="
   ]
  },
  {
   "cell_type": "code",
   "execution_count": null,
   "metadata": {},
   "outputs": [],
   "source": [
    "# ==============================================================================\n",
    "# SELECAO DE ATRIBUTOS\n",
    "# ==============================================================================\n",
    "# census_feature = SelectKBest(chi2, k='all')\n",
    "census_selecao_col = ExtraTreesClassifier()\n",
    "census_selecao_col.fit(previsores, classe)\n",
    "print(census_selecao_col.feature_importances_)\n",
    "# ou usando RFE: Recursive Feature Elimination\n",
    "#feature extraction\n",
    "census_selecao_col = LogisticRegression()\n",
    "rfe = RFE(census_selecao_col, 4)\n",
    "fit = rfe.fit(previsores, classe)\n",
    "\n",
    "print(f\"Num Features: {fit.n_features_} \")\n",
    "print(f\"Selected Features: {fit.support_} \")\n",
    "print(f\"Feature Ranking: {fit.ranking_} \")"
   ]
  },
  {
   "cell_type": "code",
   "execution_count": null,
   "metadata": {},
   "outputs": [],
   "source": [
    "# ==============================================================================\n",
    "# ========= PADRONIZAÇÃO DOS VALORES =================\n",
    "# ==============================================================================\n",
    "from sklearn.preprocessing import StandardScaler\n",
    "scaler = StandardScaler()\n",
    "previsores = scaler.fit_transform(previsores)\n",
    "\n",
    "# ==============================================================================\n",
    "# ============CRIAÇÃO DA BASE DE TREINAMENTO E BASE DE TESTE =================\n",
    "# ==============================================================================\n",
    "X_treinamento, X_teste, y_treinamento, y_teste = train_test_split(previsores,\n",
    "                                                                  classe,\n",
    "                                                                  test_size = 0.3,\n",
    "                                                                  random_state = 0)"
   ]
  },
  {
   "cell_type": "code",
   "execution_count": null,
   "metadata": {},
   "outputs": [],
   "source": [
    "# ================= USAR PARA TRABALHO NA PUC============\n",
    "#- Naive Bayes Classifier\n",
    "#- KNN (lazy.Ibk)\n",
    "#- REPTree (Arvore de Decisão)\n",
    "#- SMO (mais demorado)\n",
    "#- Regressão Logistica\n",
    "\n",
    "# ==============================================================================\n",
    "# NAIVE BAYES\n",
    "# ==============================================================================\n",
    "naive_bayes = GaussianNB()\n",
    "naive_bayes.fit(X_treinamento, y_treinamento)\n",
    "\n",
    "previsoes_bayes = naive_bayes.predict(X_teste)\n",
    "confusao_bayes = confusion_matrix(y_teste, previsoes_bayes)\n",
    "taxa_acerto_bayes = accuracy_score(y_teste, previsoes_bayes)\n",
    "#taxa_erro_bayes = 1 - taxa_acerto_bayes\n",
    "\n",
    "# ==============================================================================\n",
    "# kNN: Vizinhos mais próximos\n",
    "# ==============================================================================\n",
    "\n",
    "#parameters_knn = {\"n_neighbors\": (3, 5, 6, 8, 10, 15),\"weights\": (\"uniform\", \"distance\")}\n",
    "knn = KNeighborsClassifier(n_neighbors=15,weights=\"distance\")\n",
    "knn.fit(X_treinamento, y_treinamento)\n",
    "previsoes_knn = knn.predict(X_teste)\n",
    "confusao_knn = confusion_matrix(y_teste, previsoes_knn)\n",
    "taxa_acerto_knn = accuracy_score(y_teste, previsoes_knn)\n",
    "#taxa_erro_knn = 1 - taxa_acerto_knn\n",
    "\n",
    "\n",
    "# ==============================================================================\n",
    "# SVM: SUPORT VETOR MACHINE\n",
    "# ==============================================================================\n",
    "\n",
    "#parameters_svm = {\"C\": (0.1, 1, 5, 10), \"kernel\": (\"rbf\", \"linear\"), \"gamma\": (0.1, 0.5, 1)}\n",
    "svm = SVC(C=10, kernel= \"rbf\", gamma= 0.5)\n",
    "svm.fit(X_treinamento, y_treinamento)\n",
    "previsoes_svm = svm.predict(X_teste)\n",
    "taxa_acerto_svm = accuracy_score(y_teste, previsoes_svm)\n",
    "\n",
    "\n",
    "\n",
    "#==============================\n",
    "\n",
    "cross_val_model = LogisticRegression(random_state=0)\n",
    "scores = cross_val_score(cross_val_model, X_treinamento, y_treinamento, cv=5)\n",
    "\n",
    "#========\n",
    "\n",
    "\n",
    "\n",
    "# ==============================================================================\n",
    "# ARVORE DE DECISAO\n",
    "# ==============================================================================\n",
    "# parameters_dtree = {\"criterion\": (\"gini\", \"entropy\"), \"max_depth\": (None, 2, 3), \"min_samples_split\": (2, 3, 4)}\n",
    "# parameters_dtree = 'criterion=\"gini\", max_depth=3, min_samples_split=4'\n",
    "arvore = DecisionTreeClassifier(criterion=\"gini\", max_depth=3, min_samples_split=4)\n",
    "arvore.fit(X_treinamento, y_treinamento)\n",
    "\n",
    "export_graphviz(arvore, out_file = 'dados/tree.dot')\n",
    "# Para ver o gráfico em árvore gerado, acessar o link abaixo e copiar o conteúdo de tree.dot\n",
    "# http://www.webgraphviz.com/\n",
    "\n",
    "previsoes_arvore_dec = arvore.predict(X_teste)\n",
    "confusao_arvore_dec = confusion_matrix(y_teste, previsoes_arvore_dec)\n",
    "taxa_acerto_arvore_dec = accuracy_score(y_teste, previsoes_arvore_dec)\n",
    "#taxa_erro_arvore_dec = 1 - taxa_acerto_arvore_dec\n",
    "\n",
    "# Opcionalmente, podemos ver a matriz de confusção com o uso do pacote yellowbrick\n",
    "\n",
    "from yellowbrick.classifier import ConfusionMatrix\n",
    "v = ConfusionMatrix(DecisionTreeClassifier())\n",
    "v.fit(X_treinamento, y_treinamento)\n",
    "v.score(X_teste, y_teste)\n",
    "v.poof()\n",
    "\n",
    "\n",
    "\n",
    "\n",
    "\n",
    "# ==============================================================================\n",
    "# Random Forest\n",
    "# ==============================================================================\n",
    "\n",
    "floresta = RandomForestClassifier(n_estimators = 100)\n",
    "floresta.fit(X_treinamento, y_treinamento)\n",
    "previsoes_floresta = floresta.predict(X_teste)\n",
    "confusao_floresta = confusion_matrix(y_teste, previsoes_floresta)\n",
    "taxa_acerto_floresta = accuracy_score(y_teste, previsoes_floresta)\n",
    "\n",
    "floresta.estimators_  # exibir as 100 arvores\n",
    "floresta.estimators_[1]  # visualizar uma arvore, em especifico"
   ]
  },
  {
   "cell_type": "markdown",
   "metadata": {},
   "source": [
    "* Comece a explorar os dados, listando os ultimos registros do dataframe."
   ]
  },
  {
   "cell_type": "markdown",
   "metadata": {},
   "source": [
    "Vendo os tipos de dados de cada coluna"
   ]
  },
  {
   "cell_type": "code",
   "execution_count": null,
   "metadata": {},
   "outputs": [],
   "source": [
    "df_train.dtypes"
   ]
  },
  {
   "cell_type": "markdown",
   "metadata": {},
   "source": [
    "O tipo \"object\" é uma string para o pandas. Este tipo de dado não pode ser facilmente utilizado em algoritmos de machine learning. Guarde em mente que se vamos utilizar estas colunas como atributos de nosso modelo precisaremos transformá-las em representações numéricas.\n",
    "\n",
    "Vamos verificar mais algumas informações sobre o dataframe:"
   ]
  },
  {
   "cell_type": "code",
   "execution_count": null,
   "metadata": {},
   "outputs": [],
   "source": [
    "print (\"Tamanho do dataframe\", len(df_train))\n",
    "df_train.info()"
   ]
  },
  {
   "cell_type": "markdown",
   "metadata": {},
   "source": [
    "Podemos observar que as colunas Age, Cabin e Embarked possuem valores nulos. A coluna Age possui 177, a coluna Cabin 687 e a coluna Embarked somente 2. Devido ao elevado número de valores nulos, a coluna Cabin talvez não acrescente valor aos modelos gerados. Como possuem poucos valores nulos, as colunas Age e Embarked podem ser utilizadas após tratamento que veremos mais adiante.\n",
    "\n",
    "Vamos verificar mais algumas estatísticas (note que somente serão exibidas estatísticas de colunas numéricas):\n",
    "\n",
    "* Chame o metodo \"describe()\" do dataframe para realizar a verificacao"
   ]
  },
  {
   "cell_type": "markdown",
   "metadata": {},
   "source": [
    "Agora vamos gerar alguns histogramas das variáveis usando matplotlib."
   ]
  },
  {
   "cell_type": "code",
   "execution_count": null,
   "metadata": {},
   "outputs": [],
   "source": [
    "fig = plt.figure(figsize=fizsize_with_subplots) \n",
    "fig_dims = (3, 2)\n",
    "\n",
    "# Mortes x Sobreviventes\n",
    "plt.subplot2grid(fig_dims, (0, 0))\n",
    "df_train['Survived'].value_counts().plot(kind='bar', title='Mortos x Sobreviventes')\n",
    "\n",
    "# Classe do passageiro\n",
    "plt.subplot2grid(fig_dims, (0, 1))\n",
    "df_train['Pclass'].value_counts().plot(kind='bar', title='Classe do passageiro')\n",
    "\n",
    "# Gênero\n",
    "plt.subplot2grid(fig_dims, (1, 0))\n",
    "df_train['Sex'].value_counts().plot(kind='bar', title='Genero')\n",
    "plt.xticks(rotation=0)\n",
    "\n",
    "# Porto de embarque\n",
    "plt.subplot2grid(fig_dims, (1, 1))\n",
    "df_train['Embarked'].value_counts().plot(kind='bar', title='Porto de embarque')\n",
    "\n",
    "# Idade\n",
    "plt.subplot2grid(fig_dims, (2, 0))\n",
    "df_train['Age'].hist()\n",
    "plt.title('Idade')\n",
    "\n",
    "# Tarifa\n",
    "plt.subplot2grid(fig_dims, (2, 1))\n",
    "df_train['Fare'].hist()\n",
    "plt.title('Tarifa')"
   ]
  },
  {
   "cell_type": "code",
   "execution_count": null,
   "metadata": {},
   "outputs": [],
   "source": [
    "O que aconteceu com o histograma de Tarifa ?"
   ]
  },
  {
   "cell_type": "markdown",
   "metadata": {},
   "source": [
    "Temos claramente a presença de outliers neste atributo. Para utilizar então a informação de tarifa em nossos modelos temos que tratar esta característica.\n",
    "\n",
    "Vamos agora analisar algumas características individualmente."
   ]
  },
  {
   "cell_type": "markdown",
   "metadata": {},
   "source": [
    "#### Gênero (Sex)"
   ]
  },
  {
   "cell_type": "code",
   "execution_count": null,
   "metadata": {},
   "outputs": [],
   "source": [
    "# Cria uma tabela utilizando a função crosstad do pandas\n",
    "sex_val_ct = pd.crosstab(df_train['Sex'], df_train['Survived'])\n",
    "# Normaliza a tabela para a soma dar 1\n",
    "sex_val_ct_pct = sex_val_ct.div(sex_val_ct.sum(1).astype(float), axis=0)\n",
    "# Exibe o gráfico\n",
    "sex_val_ct_pct.plot(kind='bar', stacked=True, title='Taxa de sobrevivencia por genero')"
   ]
  },
  {
   "cell_type": "markdown",
   "metadata": {},
   "source": [
    "# 04 - Criando Modelos de Classificacao"
   ]
  },
  {
   "cell_type": "markdown",
   "metadata": {},
   "source": [
    "Vamos montar a matrix de atributos e o vetor de respostas que servirão de entrada para o treinamento"
   ]
  },
  {
   "cell_type": "code",
   "execution_count": null,
   "metadata": {},
   "outputs": [],
   "source": []
  },
  {
   "cell_type": "markdown",
   "metadata": {},
   "source": [
    "# 05 - Competicao de Modelos"
   ]
  },
  {
   "cell_type": "code",
   "execution_count": null,
   "metadata": {},
   "outputs": [],
   "source": [
    "import pandas as pd\n",
    "import numpy as np\n",
    "from sklearn.utils import shuffle\n",
    "from sklearn.metrics import confusion_matrix\n",
    "from sklearn.model_selection import StratifiedShuffleSplit\n",
    "from sklearn.model_selection import GridSearchCV\n",
    "\n",
    "from sklearn.linear_model import LogisticRegression\n",
    "from sklearn.svm import SVC\n",
    "from sklearn.tree import DecisionTreeClassifier\n",
    "from sklearn.ensemble import RandomForestClassifier\n",
    "from sklearn.neighbors import KNeighborsClassifier\n",
    "from sklearn.neural_network import MLPClassifier\n",
    "\n",
    "SEED = 13"
   ]
  },
  {
   "cell_type": "code",
   "execution_count": null,
   "metadata": {},
   "outputs": [],
   "source": [
    "df = pd.read_csv(\"dados/titanic/train_cleaned.csv\", sep=\",\")"
   ]
  },
  {
   "cell_type": "markdown",
   "metadata": {},
   "source": [
    "Separa os dados em treinamento e teste"
   ]
  },
  {
   "cell_type": "code",
   "execution_count": null,
   "metadata": {},
   "outputs": [],
   "source": [
    "from sklearn.model_selection import train_test_split"
   ]
  },
  {
   "cell_type": "code",
   "execution_count": null,
   "metadata": {},
   "outputs": [],
   "source": [
    "X = df.loc[:, df.columns!='Survived'].values\n",
    "y = df['Survived'].values\n",
    "\n",
    "X_train, X_test, y_train, y_test = train_test_split(X, y, test_size=0.30, random_state=SEED)"
   ]
  },
  {
   "cell_type": "code",
   "execution_count": null,
   "metadata": {},
   "outputs": [],
   "source": []
  },
  {
   "cell_type": "markdown",
   "metadata": {},
   "source": [
    "Criacao de um dicionario que ira possuir como chave o nome do classificador e como valor o respectivo objeto"
   ]
  },
  {
   "cell_type": "code",
   "execution_count": null,
   "metadata": {},
   "outputs": [],
   "source": [
    "classifiers = {\n",
    "    'LR' : LogisticRegression(),\n",
    "    'SVM': SVC(),\n",
    "    'Decision Tree' : DecisionTreeClassifier(),\n",
    "    'Random Forest': RandomForestClassifier(),\n",
    "    'KNN' : KNeighborsClassifier(),\n",
    "    'MLP': MLPClassifier()\n",
    "}"
   ]
  },
  {
   "cell_type": "code",
   "execution_count": null,
   "metadata": {},
   "outputs": [],
   "source": [
    "parameters = {\n",
    "    'LR' : dict(solver=['newton-cg', 'lbfgs', 'liblinear', 'sag']),\n",
    "    'SVM': dict(gamma=np.logspace(-5, 4, 10), C=np.logspace(-2, 6, 9)),\n",
    "    'Decision Tree' : dict(max_depth=np.arange(5,100, 20) ),\n",
    "    'Random Forest': dict(n_estimators=np.arange(5,100, 20)),\n",
    "    'KNN' : dict(algorithm=['auto', 'ball_tree', 'kd_tree', 'brute'], n_neighbors=np.arange(5,20,5)),\n",
    "    'MLP': dict(activation=['logistic'], \n",
    "                  alpha=np.logspace(-4, -1, 4),\n",
    "                  hidden_layer_sizes=[(3), (2)],\n",
    "                  learning_rate_init=np.logspace(-4, -1, 4), momentum=np.arange(0,1, 10),\n",
    "                  solver=['lbfgs'], tol=np.logspace(-4, -2, 3))\n",
    "    }"
   ]
  },
  {
   "cell_type": "code",
   "execution_count": null,
   "metadata": {},
   "outputs": [],
   "source": [
    "def best_parameters(clf, name, X, y, parameters):\n",
    "    print(\"Avaliando melhores parametros para \", name)\n",
    "    grid = GridSearchCV(clf, param_grid=parameters, cv=cv)\n",
    "    grid.fit(X, y)\n",
    "    print(\"Os melhores parametros do classificador %s sao %s com um score de %0.6f\"\n",
    "        % (name, grid.best_params_, grid.best_score_))\n",
    "    return grid"
   ]
  },
  {
   "cell_type": "code",
   "execution_count": null,
   "metadata": {},
   "outputs": [],
   "source": [
    "cv = StratifiedShuffleSplit(n_splits=5, test_size=0.2, random_state=42)"
   ]
  },
  {
   "cell_type": "code",
   "execution_count": null,
   "metadata": {},
   "outputs": [],
   "source": [
    "est_score = 0\n",
    "for key,val in classifiers.items():\n",
    "    grid = best_parameters(val, key, X_train, y_train, parameters[key] )\n",
    "    #clf = val.set_params(**grid.best_params_)       \n",
    "    #clf.fit(X_train, y_train)\n",
    "    #y_pred = clf.predict(X)    \n",
    "    if grid.best_score_ > best_score:        \n",
    "        the_best = key\n",
    "        best_score = grid.best_score_\n",
    "        \n",
    "print(\"O melhor modelo foi: \", the_best, \" com um score de \", best_score)    "
   ]
  },
  {
   "cell_type": "markdown",
   "metadata": {},
   "source": [
    "# Exploratory Data Analysis"
   ]
  },
  {
   "cell_type": "markdown",
   "metadata": {},
   "source": [
    "## Cleaning the data"
   ]
  },
  {
   "cell_type": "markdown",
   "metadata": {},
   "source": [
    "## Handing Numerical Attributes"
   ]
  },
  {
   "cell_type": "markdown",
   "metadata": {},
   "source": [
    "**Data Visualizations**"
   ]
  },
  {
   "cell_type": "markdown",
   "metadata": {},
   "source": [
    "**Observations**\n",
    "\n",
    "* None of the numerical attributes have missing values \n",
    "* The values are on different scales. Many machine learning models require the features to be on the same scale. \n",
    "* We can see that there are many outliers present in the data, we will use [StandardScaler](http://scikit-learn.org/stable/modules/generated/sklearn.preprocessing.StandardScaler.html) from sklearn library"
   ]
  },
  {
   "cell_type": "markdown",
   "metadata": {},
   "source": [
    "## Handling Categorical Attributes"
   ]
  },
  {
   "cell_type": "markdown",
   "metadata": {},
   "source": [
    "**Data-visualizations**"
   ]
  },
  {
   "cell_type": "markdown",
   "metadata": {},
   "source": [
    "**Observations**\n",
    "\n",
    "* All the variables are self-explanatory. \n",
    "* The column **education** is just a string representation of the column  **education-num**. We will drop the **education** column \n",
    "* The variables **workClass**, **occupation**, **native-country** have missing values. We will replace the missing values in each column with the **most_frequent** occurring value of that column."
   ]
  },
  {
   "cell_type": "markdown",
   "metadata": {},
   "source": [
    "# Building the Model"
   ]
  },
  {
   "cell_type": "markdown",
   "metadata": {},
   "source": [
    "## Training the model"
   ]
  },
  {
   "cell_type": "markdown",
   "metadata": {},
   "source": [
    "# Testing the model"
   ]
  },
  {
   "cell_type": "markdown",
   "metadata": {},
   "source": [
    "# Model Evaluation"
   ]
  },
  {
   "cell_type": "markdown",
   "metadata": {},
   "source": [
    "# Cross Validation"
   ]
  },
  {
   "cell_type": "markdown",
   "metadata": {},
   "source": [
    "# Fine Tuning the Model"
   ]
  },
  {
   "cell_type": "markdown",
   "metadata": {},
   "source": [
    "# Saving the model to pickle"
   ]
  },
  {
   "cell_type": "markdown",
   "metadata": {},
   "source": [
    "We have done all the hard work of creating and testing the model. It would be good if we could save the model for future uses rather than retrain it. We will save our model in the [pickle](https://docs.python.org/2/library/pickle.html). "
   ]
  },
  {
   "cell_type": "code",
   "execution_count": null,
   "metadata": {},
   "outputs": [],
   "source": [
    "filename = 'final_model.sav'\n",
    "pickle.dump(model, open(filename, 'wb'))"
   ]
  },
  {
   "cell_type": "markdown",
   "metadata": {},
   "source": [
    "Loading the model from pickle"
   ]
  },
  {
   "cell_type": "code",
   "execution_count": null,
   "metadata": {},
   "outputs": [],
   "source": [
    "saved_model = pickle.load(open(filename, 'rb')) \n",
    "print(saved_model)"
   ]
  },
  {
   "cell_type": "code",
   "execution_count": null,
   "metadata": {},
   "outputs": [],
   "source": [
    "Now you can predict using the saved model. "
   ]
  },
  {
   "cell_type": "markdown",
   "metadata": {},
   "source": [
    "# Fonte"
   ]
  },
  {
   "cell_type": "markdown",
   "metadata": {},
   "source": [
    "Dua, D. and Graff, C. (2019). [UCI Machine Learning Repository](http://archive.ics.uci.edu/ml). Irvine, CA: University of California, School of Information and Computer Science.\n",
    "\n",
    "Mastering Python for Data Science (English Edition) .  por Samir Madhavan (Autor). Packt.Mastering.Aug.2015.ISBN.1784390151.\n"
   ]
  }
 ],
 "metadata": {
  "kernelspec": {
   "display_name": "Python 3",
   "language": "python",
   "name": "python3"
  },
  "language_info": {
   "codemirror_mode": {
    "name": "ipython",
    "version": 3
   },
   "file_extension": ".py",
   "mimetype": "text/x-python",
   "name": "python",
   "nbconvert_exporter": "python",
   "pygments_lexer": "ipython3",
   "version": "3.7.3"
  }
 },
 "nbformat": 4,
 "nbformat_minor": 2
}
